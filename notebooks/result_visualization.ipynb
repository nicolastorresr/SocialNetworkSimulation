{
 "cells": [
  {
   "cell_type": "markdown",
   "metadata": {},
   "source": [
    "# Result Visualization Notebook\n",
    "\n",
    "This notebook visualizes the results of our LLM-based social network simulation."
   ]
  },
  {
   "cell_type": "code",
   "execution_count": null,
   "metadata": {},
   "outputs": [],
   "source": [
    "import json\n",
    "import pandas as pd\n",
    "import networkx as nx\n",
    "import matplotlib.pyplot as plt\n",
    "import seaborn as sns\n",
    "from collections import Counter\n",
    "\n",
    "%matplotlib inline\n",
    "plt.style.use('seaborn')"
   ]
  },
  {
   "cell_type": "markdown",
   "metadata": {},
   "source": [
    "## Load Analysis Results"
   ]
  },
  {
   "cell_type": "code",
   "execution_count": null,
   "metadata": {},
   "outputs": [],
   "source": [
    "with open('../data/processed/centrality.json', 'r') as f:\n",
    "    centrality = json.load(f)\n",
    "\n",
    "with open('../data/processed/communities.json', 'r') as f:\n",
    "    communities = json.load(f)\n",
    "\n",
    "with open('../data/processed/influencers.json', 'r') as f:\n",
    "    influencers = json.load(f)\n",
    "\n",
    "with open('../data/processed/engagement_rates.json', 'r') as f:\n",
    "    engagement_rates = json.load(f)\n",
    "\n",
    "with open('../data/processed/influencer_trends.json', 'r') as f:\n",
    "    influencer_trends = json.load(f)"
   ]
  },
  {
   "cell_type": "markdown",
   "metadata": {},
   "source": [
    "## Visualize Centrality Distribution"
   ]
  },
  {
   "cell_type": "code",
   "execution_count": null,
   "metadata": {},
   "outputs": [],
   "source": [
    "plt.figure(figsize=(10, 6))\n",
    "sns.histplot(list(centrality.values()), kde=True)\n",
    "plt.title(\"Distribution of Agent Centrality\")\n",
    "plt.xlabel(\"Centrality Score\")\n",
    "plt.ylabel(\"Frequency\")\n",
    "plt.show()"
   ]
  },
  {
   "cell_type": "markdown",
   "metadata": {},
   "source": [
    "## Visualize Community Sizes"
   ]
  },
  {
   "cell_type": "code",
   "execution_count": null,
   "metadata": {},
   "outputs": [],
   "source": [
    "community_sizes = [len(c) for c in communities]\n",
    "\n",
    "plt.figure(figsize=(10, 6))\n",
    "sns.histplot(community_sizes, kde=False, discrete=True)\n",
    "plt.title(\"Distribution of Community Sizes\")\n",
    "plt.xlabel(\"Community Size\")\n",
    "plt.ylabel(\"Frequency\")\n",
    "plt.show()\n",
    "\n",
    "print(f\"Number of communities: {len(communities)}\")\n",
    "print(f\"Average community size: {sum(community_sizes) / len(communities):.2f}\")"
   ]
  },
  {
   "cell_type": "markdown",
   "metadata": {},
   "source": [
    "## Analyze Influencers"
   ]
  },
  {
   "cell_type": "code",
   "execution_count": null,
   "metadata": {},
   "outputs": [],
   "source": [
    "plt.figure(figsize=(10, 6))\n",
    "plt.scatter(list(influencers.values()), list(engagement_rates.values()))\n",
    "plt.title(\"Influencer Scores vs Engagement Rates\")\n",
    "plt.xlabel(\"Influencer Score\")\n",
    "plt.ylabel(\"Engagement Rate\")\n",
    "plt.show()\n",
    "\n",
    "print(f\"Number of identified influencers: {len(influencers)}\")\n",
    "print(f\"Average influencer score: {sum(influencers.values()) / len(influencers):.4f}\")\n",
    "print(f\"Average engagement rate: {sum(engagement_rates.values()) / len(engagement_rates):.4f}\")"
   ]
  },
  {
   "cell_type": "markdown",
   "metadata": {},
   "source": [
    "## Visualize Influencer Trends"
   ]
  },
  {
   "cell_type": "code",
   "execution_count": null,
   "metadata": {},
   "outputs": [],
   "source": [
    "trend_words, trend_counts = zip(*influencer_trends)\n",
    "\n",
    "plt.figure(figsize=(12, 6))\n",
    "plt.bar(trend_words, trend_counts)\n",
    "plt.title(\"Top Trending Words Among Influencers\")\n",
    "plt.xlabel(\"Word\")\n",
    "plt.ylabel(\"Frequency\")\n",
    "plt.xticks(rotation=45, ha='right')\n",
    "plt.tight_layout()\n",
    "plt.show()"
   ]
  }
 ],
 "metadata": {
  "kernelspec": {
   "display_name": "Python 3",
   "language": "python",
   "name": "python3"
  },
  "language_info": {
   "codemirror_mode": {
    "name": "ipython",
    "version": 3
   },
   "file_extension": ".py",
   "mimetype": "text/x-python",
   "name": "python",
   "nbconvert_exporter": "python",
   "pygments_lexer": "ipython3",
   "version": "3.8.5"
  }
 },
 "nbformat": 4,
 "nbformat_minor": 4
}
