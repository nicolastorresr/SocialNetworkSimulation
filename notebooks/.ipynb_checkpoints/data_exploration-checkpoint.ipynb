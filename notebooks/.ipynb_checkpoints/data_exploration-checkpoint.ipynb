{
 "cells": [
  {
   "cell_type": "markdown",
   "metadata": {},
   "source": [
    "# Data Exploration Notebook\n",
    "\n",
    "This notebook explores the raw data from our LLM-based social network simulation."
   ]
  },
  {
   "cell_type": "code",
   "execution_count": 1,
   "metadata": {},
   "outputs": [],
   "source": [
    "import json\n",
    "import pandas as pd\n",
    "import networkx as nx\n",
    "import matplotlib.pyplot as plt\n",
    "import seaborn as sns\n",
    "\n",
    "%matplotlib inline\n",
    "# plt.style.use('seaborn')"
   ]
  },
  {
   "cell_type": "markdown",
   "metadata": {},
   "source": [
    "## Load Data"
   ]
  },
  {
   "cell_type": "code",
   "execution_count": 2,
   "metadata": {},
   "outputs": [
    {
     "name": "stdout",
     "output_type": "stream",
     "text": [
      "The history saving thread hit an unexpected error (OperationalError('disk I/O error')).History will not be written to the database.\n"
     ]
    },
    {
     "ename": "FileNotFoundError",
     "evalue": "[Errno 2] No such file or directory: '../data/simulation_results_20240922_221841/snapshots//network_structure_19.json'",
     "output_type": "error",
     "traceback": [
      "\u001b[0;31m---------------------------------------------------------------------------\u001b[0m",
      "\u001b[0;31mFileNotFoundError\u001b[0m                         Traceback (most recent call last)",
      "\u001b[0;32m<ipython-input-2-16dea66c73c7>\u001b[0m in \u001b[0;36m<module>\u001b[0;34m\u001b[0m\n\u001b[1;32m      4\u001b[0m \u001b[0mdir\u001b[0m \u001b[0;34m=\u001b[0m \u001b[0;34m'../data/'\u001b[0m\u001b[0;34m+\u001b[0m\u001b[0mcarpeta\u001b[0m\u001b[0;34m+\u001b[0m\u001b[0mfolder\u001b[0m\u001b[0;34m\u001b[0m\u001b[0;34m\u001b[0m\u001b[0m\n\u001b[1;32m      5\u001b[0m \u001b[0;34m\u001b[0m\u001b[0m\n\u001b[0;32m----> 6\u001b[0;31m \u001b[0;32mwith\u001b[0m \u001b[0mopen\u001b[0m\u001b[0;34m(\u001b[0m\u001b[0mdir\u001b[0m\u001b[0;34m+\u001b[0m\u001b[0;34m'/network_structure'\u001b[0m\u001b[0;34m+\u001b[0m\u001b[0msufix\u001b[0m\u001b[0;34m+\u001b[0m\u001b[0;34m'.json'\u001b[0m\u001b[0;34m,\u001b[0m \u001b[0;34m'r'\u001b[0m\u001b[0;34m)\u001b[0m \u001b[0;32mas\u001b[0m \u001b[0mf\u001b[0m\u001b[0;34m:\u001b[0m\u001b[0;34m\u001b[0m\u001b[0;34m\u001b[0m\u001b[0m\n\u001b[0m\u001b[1;32m      7\u001b[0m     \u001b[0mnetwork_data\u001b[0m \u001b[0;34m=\u001b[0m \u001b[0mjson\u001b[0m\u001b[0;34m.\u001b[0m\u001b[0mload\u001b[0m\u001b[0;34m(\u001b[0m\u001b[0mf\u001b[0m\u001b[0;34m)\u001b[0m\u001b[0;34m\u001b[0m\u001b[0;34m\u001b[0m\u001b[0m\n\u001b[1;32m      8\u001b[0m \u001b[0;34m\u001b[0m\u001b[0m\n",
      "\u001b[0;31mFileNotFoundError\u001b[0m: [Errno 2] No such file or directory: '../data/simulation_results_20240922_221841/snapshots//network_structure_19.json'"
     ]
    }
   ],
   "source": [
    "carpeta = \"simulation_results_20240922_221841\"\n",
    "sufix = \"_19\"\n",
    "folder = \"/snapshots/\"\n",
    "dir = '../data/'+carpeta+folder\n",
    "\n",
    "with open(dir+'/network_structure'+sufix+'.json', 'r') as f:\n",
    "    network_data = json.load(f)\n",
    "\n",
    "with open(dir+'/agent_data'+sufix+'.json', 'r') as f:\n",
    "    agent_data = json.load(f)\n",
    "\n",
    "print(f\"Number of agents: {len(agent_data)}\")\n",
    "print(f\"Number of connections: {len(network_data['edges'])}\")"
   ]
  },
  {
   "cell_type": "markdown",
   "metadata": {},
   "source": [
    "## Explore Network Structure"
   ]
  },
  {
   "cell_type": "code",
   "execution_count": null,
   "metadata": {},
   "outputs": [],
   "source": [
    "G = nx.Graph()\n",
    "G.add_nodes_from(network_data['nodes'])\n",
    "G.add_edges_from(network_data['edges'])\n",
    "\n",
    "plt.figure(figsize=(12, 8))\n",
    "nx.draw(G, node_size=20, with_labels=False)\n",
    "plt.title(\"Social Network Structure\")\n",
    "plt.show()\n",
    "\n",
    "print(f\"Network density: {nx.density(G):.4f}\")\n",
    "print(f\"Average clustering coefficient: {nx.average_clustering(G):.4f}\")"
   ]
  },
  {
   "cell_type": "markdown",
   "metadata": {},
   "source": [
    "## Analyze Agent Types"
   ]
  },
  {
   "cell_type": "code",
   "execution_count": null,
   "metadata": {},
   "outputs": [],
   "source": [
    "agent_types = [data['type'] for data in agent_data.values()]\n",
    "type_counts = pd.Series(agent_types).value_counts()\n",
    "\n",
    "plt.figure(figsize=(10, 6))\n",
    "type_counts.plot(kind='bar')\n",
    "plt.title(\"Distribution of Agent Types\")\n",
    "plt.xlabel(\"Agent Type\")\n",
    "plt.ylabel(\"Count\")\n",
    "plt.show()"
   ]
  },
  {
   "cell_type": "markdown",
   "metadata": {},
   "source": [
    "## Explore Messages"
   ]
  },
  {
   "cell_type": "code",
   "execution_count": null,
   "metadata": {},
   "outputs": [],
   "source": [
    "all_messages = [msg for data in agent_data.values() for msg in data['messages']]\n",
    "message_lengths = [len(msg) for msg in all_messages]\n",
    "\n",
    "plt.figure(figsize=(10, 6))\n",
    "sns.histplot(message_lengths, kde=True)\n",
    "plt.title(\"Distribution of Message Lengths\")\n",
    "plt.xlabel(\"Message Length (characters)\")\n",
    "plt.ylabel(\"Frequency\")\n",
    "plt.show()\n",
    "\n",
    "print(f\"Total messages: {len(all_messages)}\")\n",
    "print(f\"Average message length: {sum(message_lengths) / len(message_lengths):.2f} characters\")"
   ]
  },
  {
   "cell_type": "markdown",
   "metadata": {},
   "source": [
    "## Analyze Agent Personalities"
   ]
  },
  {
   "cell_type": "code",
   "execution_count": null,
   "metadata": {},
   "outputs": [],
   "source": [
    "personalities = pd.DataFrame([data['personality'] for data in agent_data.values()])\n",
    "\n",
    "plt.figure(figsize=(12, 8))\n",
    "sns.boxplot(data=personalities)\n",
    "plt.title(\"Distribution of Personality Traits\")\n",
    "plt.ylabel(\"Trait Value\")\n",
    "plt.show()\n",
    "\n",
    "print(personalities.describe())"
   ]
  }
 ],
 "metadata": {
  "kernelspec": {
   "display_name": "Python 3",
   "language": "python",
   "name": "python3"
  },
  "language_info": {
   "codemirror_mode": {
    "name": "ipython",
    "version": 3
   },
   "file_extension": ".py",
   "mimetype": "text/x-python",
   "name": "python",
   "nbconvert_exporter": "python",
   "pygments_lexer": "ipython3",
   "version": "3.8.10"
  }
 },
 "nbformat": 4,
 "nbformat_minor": 4
}
