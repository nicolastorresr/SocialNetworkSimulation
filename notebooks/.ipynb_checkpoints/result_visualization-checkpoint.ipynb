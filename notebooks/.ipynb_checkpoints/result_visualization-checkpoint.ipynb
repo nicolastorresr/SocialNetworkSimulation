{
 "cells": [
  {
   "cell_type": "markdown",
   "metadata": {},
   "source": [
    "# Result Visualization Notebook\n",
    "\n",
    "This notebook visualizes the results of our LLM-based social network simulation."
   ]
  },
  {
   "cell_type": "code",
   "execution_count": 1,
   "metadata": {},
   "outputs": [],
   "source": [
    "import json\n",
    "import pandas as pd\n",
    "import networkx as nx\n",
    "import matplotlib.pyplot as plt\n",
    "import seaborn as sns\n",
    "from collections import Counter\n",
    "\n",
    "%matplotlib inline\n",
    "# plt.style.use('seaborn')"
   ]
  },
  {
   "cell_type": "markdown",
   "metadata": {},
   "source": [
    "## Load Analysis Results"
   ]
  },
  {
   "cell_type": "code",
   "execution_count": 2,
   "metadata": {},
   "outputs": [
    {
     "ename": "FileNotFoundError",
     "evalue": "[Errno 2] No such file or directory: '../data/simulation_results_20240922_221841/analysis/3/message_data.json'",
     "output_type": "error",
     "traceback": [
      "\u001b[0;31m---------------------------------------------------------------------------\u001b[0m",
      "\u001b[0;31mFileNotFoundError\u001b[0m                         Traceback (most recent call last)",
      "\u001b[0;32m<ipython-input-2-52bfe8274f75>\u001b[0m in \u001b[0;36m<module>\u001b[0;34m\u001b[0m\n\u001b[1;32m     18\u001b[0m     \u001b[0minfluencer_trends\u001b[0m \u001b[0;34m=\u001b[0m \u001b[0mjson\u001b[0m\u001b[0;34m.\u001b[0m\u001b[0mload\u001b[0m\u001b[0;34m(\u001b[0m\u001b[0mf\u001b[0m\u001b[0;34m)\u001b[0m\u001b[0;34m\u001b[0m\u001b[0;34m\u001b[0m\u001b[0m\n\u001b[1;32m     19\u001b[0m \u001b[0;34m\u001b[0m\u001b[0m\n\u001b[0;32m---> 20\u001b[0;31m \u001b[0;32mwith\u001b[0m \u001b[0mopen\u001b[0m\u001b[0;34m(\u001b[0m\u001b[0mdir\u001b[0m\u001b[0;34m+\u001b[0m\u001b[0;34m'/message_data.json'\u001b[0m\u001b[0;34m,\u001b[0m \u001b[0;34m'r'\u001b[0m\u001b[0;34m)\u001b[0m \u001b[0;32mas\u001b[0m \u001b[0mf\u001b[0m\u001b[0;34m:\u001b[0m\u001b[0;34m\u001b[0m\u001b[0;34m\u001b[0m\u001b[0m\n\u001b[0m\u001b[1;32m     21\u001b[0m     \u001b[0mmessages\u001b[0m \u001b[0;34m=\u001b[0m \u001b[0mjson\u001b[0m\u001b[0;34m.\u001b[0m\u001b[0mload\u001b[0m\u001b[0;34m(\u001b[0m\u001b[0mf\u001b[0m\u001b[0;34m)\u001b[0m\u001b[0;34m\u001b[0m\u001b[0;34m\u001b[0m\u001b[0m\n",
      "\u001b[0;31mFileNotFoundError\u001b[0m: [Errno 2] No such file or directory: '../data/simulation_results_20240922_221841/analysis/3/message_data.json'"
     ]
    }
   ],
   "source": [
    "carpeta = \"simulation_results_20240922_221841\"\n",
    "sufix = \"3\"\n",
    "dir = '../data/'+carpeta+'/analysis/'+sufix\n",
    "\n",
    "with open(dir+'/centrality.json', 'r') as f:\n",
    "    centrality = json.load(f)\n",
    "\n",
    "with open(dir+'/communities.json', 'r') as f:\n",
    "    communities = json.load(f)\n",
    "\n",
    "with open(dir+'/influencers.json', 'r') as f:\n",
    "    influencers = json.load(f)\n",
    "\n",
    "with open(dir+'/engagement_rates.json', 'r') as f:\n",
    "    engagement_rates = json.load(f)\n",
    "\n",
    "with open(dir+'/influencer_trends.json', 'r') as f:\n",
    "    influencer_trends = json.load(f)\n",
    "\n",
    "with open(dir+'/message_data.json', 'r') as f:\n",
    "    messages = json.load(f)"
   ]
  },
  {
   "cell_type": "markdown",
   "metadata": {},
   "source": [
    "## Visualize Centrality Distribution"
   ]
  },
  {
   "cell_type": "code",
   "execution_count": null,
   "metadata": {},
   "outputs": [],
   "source": [
    "plt.figure(figsize=(10, 6))\n",
    "sns.histplot(list(centrality.values()), kde=True)\n",
    "plt.title(\"Distribution of Agent Centrality\")\n",
    "plt.xlabel(\"Centrality Score\")\n",
    "plt.ylabel(\"Frequency\")\n",
    "plt.show()"
   ]
  },
  {
   "cell_type": "markdown",
   "metadata": {},
   "source": [
    "## Visualize Community Sizes"
   ]
  },
  {
   "cell_type": "code",
   "execution_count": null,
   "metadata": {},
   "outputs": [],
   "source": [
    "community_sizes = [len(c) for c in communities]\n",
    "\n",
    "plt.figure(figsize=(10, 6))\n",
    "sns.histplot(community_sizes, kde=False, discrete=True)\n",
    "plt.title(\"Distribution of Community Sizes\")\n",
    "plt.xlabel(\"Community Size\")\n",
    "plt.ylabel(\"Frequency\")\n",
    "plt.show()\n",
    "\n",
    "print(f\"Number of communities: {len(communities)}\")\n",
    "print(f\"Average community size: {sum(community_sizes) / len(communities):.2f}\")"
   ]
  },
  {
   "cell_type": "markdown",
   "metadata": {},
   "source": [
    "## Analyze Influencers"
   ]
  },
  {
   "cell_type": "code",
   "execution_count": null,
   "metadata": {},
   "outputs": [],
   "source": [
    "plt.figure(figsize=(10, 6))\n",
    "plt.scatter(list(influencers.values()), list(engagement_rates.values()))\n",
    "plt.title(\"Influencer Scores vs Engagement Rates\")\n",
    "plt.xlabel(\"Influencer Score\")\n",
    "plt.ylabel(\"Engagement Rate\")\n",
    "plt.show()\n",
    "print(f\"Number of identified influencers: {len(influencers)}\")\n",
    "print(f\"Average influencer score: {sum(influencers.values()) / len(influencers):.4f}\")\n",
    "print(f\"Average engagement rate: {sum(engagement_rates.values()) / len(engagement_rates):.4f}\")"
   ]
  },
  {
   "cell_type": "markdown",
   "metadata": {},
   "source": [
    "## Visualize Influencer Trends"
   ]
  },
  {
   "cell_type": "code",
   "execution_count": null,
   "metadata": {},
   "outputs": [],
   "source": [
    "trend_words, trend_counts = zip(*influencer_trends)\n",
    "\n",
    "plt.figure(figsize=(12, 6))\n",
    "plt.bar(trend_words, trend_counts)\n",
    "plt.title(\"Top Trending Words Among Influencers\")\n",
    "plt.xlabel(\"Word\")\n",
    "plt.ylabel(\"Frequency\")\n",
    "plt.xticks(rotation=45, ha='right')\n",
    "plt.tight_layout()\n",
    "plt.show()"
   ]
  },
  {
   "cell_type": "markdown",
   "metadata": {},
   "source": [
    "## Analyze Message"
   ]
  },
  {
   "cell_type": "markdown",
   "metadata": {},
   "source": [
    "#### Message Sentiments"
   ]
  },
  {
   "cell_type": "code",
   "execution_count": null,
   "metadata": {},
   "outputs": [],
   "source": [
    "sentiments = messages['sentiments']\n",
    "\n",
    "plt.figure(figsize=(10, 6))\n",
    "plt.hist(sentiments, bins=20, color='blue', edgecolor='black')\n",
    "plt.title('Sentiment Distribution')\n",
    "plt.xlabel('Sentiment Score')\n",
    "plt.ylabel('Frequency')\n",
    "plt.grid(True)\n",
    "plt.show()"
   ]
  },
  {
   "cell_type": "markdown",
   "metadata": {},
   "source": [
    "#### Message Sentiments Polarization"
   ]
  },
  {
   "cell_type": "code",
   "execution_count": null,
   "metadata": {},
   "outputs": [],
   "source": [
    "positive_count = messages['positive_count']\n",
    "neutral_count = messages['neutral_count']\n",
    "negative_count = messages['negative_count']\n",
    "\n",
    "labels = ['Positive', 'Neutral', 'Negative']\n",
    "counts = [positive_count, neutral_count, negative_count]\n",
    "\n",
    "plt.figure(figsize=(8, 6))\n",
    "plt.bar(labels, counts, color=['green', 'gray', 'red'])\n",
    "plt.title('Sentiment Polarization')\n",
    "plt.xlabel('Sentiment Type')\n",
    "plt.ylabel('Count')\n",
    "plt.grid(True)\n",
    "plt.show() "
   ]
  },
  {
   "cell_type": "markdown",
   "metadata": {},
   "source": [
    "#### Message Top Topics"
   ]
  },
  {
   "cell_type": "code",
   "execution_count": null,
   "metadata": {},
   "outputs": [],
   "source": [
    "topics = messages['topics']\n",
    "topic_counts = Counter([word for topic in topics for word in topic.split()])\n",
    "most_common_topics = topic_counts.most_common(10)\n",
    "labels, counts = zip(*most_common_topics)\n",
    "\n",
    "plt.figure(figsize=(10, 6))\n",
    "plt.bar(labels, counts, color='purple')\n",
    "plt.title('Most Frequent Topic Words')\n",
    "plt.xlabel('Words')\n",
    "plt.ylabel('Frequency')\n",
    "plt.xticks(rotation=45)\n",
    "plt.grid(True)\n",
    "plt.tight_layout()\n",
    "plt.show()"
   ]
  },
  {
   "cell_type": "markdown",
   "metadata": {},
   "source": [
    "#### Message Propagation"
   ]
  },
  {
   "cell_type": "code",
   "execution_count": null,
   "metadata": {},
   "outputs": [],
   "source": [
    "spread = messages['spread']\n",
    "\n",
    "plt.figure(figsize=(10, 6))\n",
    "plt.plot(list(spread.keys()), list(spread.values()), marker='o')\n",
    "plt.title('Message Spread Over Time')\n",
    "plt.xlabel('Time Step')\n",
    "plt.ylabel('Number of Agents Reached')\n",
    "plt.grid(True)\n",
    "plt.show()"
   ]
  },
  {
   "cell_type": "markdown",
   "metadata": {},
   "source": [
    "#### Message Count Per Agent"
   ]
  },
  {
   "cell_type": "code",
   "execution_count": null,
   "metadata": {},
   "outputs": [],
   "source": [
    "message_counts = messages['message_counts']\n",
    "agent_ids = list(message_counts.keys())\n",
    "counts = list(message_counts.values())\n",
    "\n",
    "plt.figure(figsize=(10, 6))\n",
    "plt.bar(agent_ids, counts, color='orange')\n",
    "plt.title('Messages per Agent')\n",
    "plt.xlabel('Agent ID')\n",
    "plt.ylabel('Number of Messages')\n",
    "plt.grid(True)\n",
    "plt.xticks(rotation=45)\n",
    "plt.tight_layout()\n",
    "plt.show()"
   ]
  }
 ],
 "metadata": {
  "kernelspec": {
   "display_name": "Python 3",
   "language": "python",
   "name": "python3"
  },
  "language_info": {
   "codemirror_mode": {
    "name": "ipython",
    "version": 3
   },
   "file_extension": ".py",
   "mimetype": "text/x-python",
   "name": "python",
   "nbconvert_exporter": "python",
   "pygments_lexer": "ipython3",
   "version": "3.8.10"
  }
 },
 "nbformat": 4,
 "nbformat_minor": 4
}
